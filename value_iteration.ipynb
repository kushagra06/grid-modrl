{
 "cells": [
  {
   "cell_type": "code",
   "execution_count": 1,
   "metadata": {},
   "outputs": [],
   "source": [
    "import numpy as np"
   ]
  },
  {
   "cell_type": "code",
   "execution_count": 2,
   "metadata": {},
   "outputs": [],
   "source": [
    "total_states = 4\n",
    "total_actions = 4\n",
    "P ={}\n",
    "for s in range(total_states):\n",
    "    for a in range(total_actions):\n",
    "        for s_ in range(total_states):\n",
    "            P[(a,s,s_)] = 0\n",
    "P[(0,0,0)] = 1\n",
    "P[(1,0,2)] = 1\n",
    "P[(2,0,0)] = 1\n",
    "P[(3,0,1)] = 1\n",
    "\n",
    "P[(0,1,1)] = 1\n",
    "P[(1,1,3)] = 1\n",
    "P[(2,1,0)] = 1\n",
    "P[(3,1,1)] = 1\n",
    "\n",
    "P[(0,2,0)] = 1\n",
    "P[(1,2,2)] = 1\n",
    "P[(2,2,2)] = 1\n",
    "P[(3,2,3)] = 1\n",
    "\n",
    "P[(0,3,1)] = 1\n",
    "P[(1,3,3)] = 1\n",
    "P[(2,3,2)] = 1\n",
    "P[(2,3,3)] = 1"
   ]
  },
  {
   "cell_type": "code",
   "execution_count": 3,
   "metadata": {},
   "outputs": [
    {
     "name": "stdout",
     "output_type": "stream",
     "text": [
      "[[ 82.9  91.   82.9  91. ]\n",
      " [ 91.  100.   82.9  91. ]\n",
      " [ 82.9  91.   91.  100. ]\n",
      " [  0.    0.    0.    0. ]]\n"
     ]
    }
   ],
   "source": [
    "#value iteration\n",
    "q_sa = np.zeros((total_states, total_actions))\n",
    "epsilon = 0.0001\n",
    "gamma = 0.9\n",
    "\n",
    "while True:\n",
    "    max_diff = -np.inf\n",
    "    for s in range(total_states-1):\n",
    "        for a in range(total_actions):\n",
    "            val = 0\n",
    "            for s_ in range(total_states):\n",
    "                if s_ == 3:\n",
    "                    r = 100\n",
    "                else:\n",
    "                    r = 1\n",
    "                val += P[(a,s,s_)] * (r + gamma * np.max(q_sa[s_]))  \n",
    "            \n",
    "            max_diff = max(max_diff, np.abs(val-q_sa[s,a]))\n",
    "\n",
    "            q_sa[s,a] = val\n",
    "    \n",
    "    if max_diff < epsilon:\n",
    "        break\n",
    "print(q_sa)"
   ]
  },
  {
   "cell_type": "code",
   "execution_count": 4,
   "metadata": {},
   "outputs": [
    {
     "name": "stdout",
     "output_type": "stream",
     "text": [
      "[[ 82.9  91.   82.9  91. ]\n",
      " [ 91.  100.   82.9  91. ]\n",
      " [ 82.9  91.   91.  100. ]]\n"
     ]
    }
   ],
   "source": [
    "#policy evaluation\n",
    "pi_k = np.array([[0,0.5,0,0.5],[0,1,0,0],[0,0,0,1],[0,0,0,0]])\n",
    "# pi_k = np.array([[0.1,0.2,0.3,0.4],[0.5,0.4,0.1,0],[0.1,0.2,0.1,0.6],[0,0,0,0]])\n",
    "\n",
    "total_states = 4\n",
    "total_actions = 4\n",
    "\n",
    "coeffients = []\n",
    "for s in range(total_states-1):\n",
    "    for a in range(total_actions):\n",
    "        for s_ in range(total_states-1):\n",
    "            for a_ in range(total_actions):\n",
    "                coeffients.append(P[(a,s,s_)] * pi_k[s_,a_])\n",
    "\n",
    "# print(coeffients)\n",
    "\n",
    "I = np.eye((total_states-1)*total_actions, (total_states-1)*total_actions)\n",
    "\n",
    "\n",
    "# # print(I)\n",
    "\n",
    "A = I - gamma * np.asarray(coeffients).reshape(((total_states-1)*total_actions,(total_states-1)*total_actions))\n",
    "\n",
    "# print(A)\n",
    "\n",
    "R = []\n",
    "for s in range(total_states-1):\n",
    "    for a in range(total_actions):\n",
    "        val = 0\n",
    "        for s_ in range(total_states):\n",
    "            if s_ == 3:\n",
    "                r = 100\n",
    "            else:\n",
    "                r = 1\n",
    "            val += P[(a,s,s_)] * r\n",
    "        R.append(val)  \n",
    "\n",
    "\n",
    "R = np.asarray(R).reshape(((total_states-1)*total_actions, 1))\n",
    "x = np.linalg.solve(A, R)\n",
    "x = np.asarray(x).reshape((total_states-1, total_actions))\n",
    "\n",
    "print(x)"
   ]
  },
  {
   "cell_type": "code",
   "execution_count": null,
   "metadata": {},
   "outputs": [],
   "source": []
  }
 ],
 "metadata": {
  "kernelspec": {
   "display_name": "Python 3",
   "language": "python",
   "name": "python3"
  },
  "language_info": {
   "codemirror_mode": {
    "name": "ipython",
    "version": 3
   },
   "file_extension": ".py",
   "mimetype": "text/x-python",
   "name": "python",
   "nbconvert_exporter": "python",
   "pygments_lexer": "ipython3",
   "version": "3.6.5"
  }
 },
 "nbformat": 4,
 "nbformat_minor": 2
}
